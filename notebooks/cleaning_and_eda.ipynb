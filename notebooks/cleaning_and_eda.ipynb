{
 "cells": [
  {
   "cell_type": "markdown",
   "metadata": {},
   "source": [
    "# Sales Data Analysis\n",
    "\n",
    "This notebook performs full data cleaning and exploratory analysis on messy sales data."
   ]
  },
  {
   "cell_type": "code",
   "execution_count": 1,
   "metadata": {},
   "outputs": [
    {
     "data": {
      "text/html": [
       "<div>\n",
       "<style scoped>\n",
       "    .dataframe tbody tr th:only-of-type {\n",
       "        vertical-align: middle;\n",
       "    }\n",
       "\n",
       "    .dataframe tbody tr th {\n",
       "        vertical-align: top;\n",
       "    }\n",
       "\n",
       "    .dataframe thead th {\n",
       "        text-align: right;\n",
       "    }\n",
       "</style>\n",
       "<table border=\"1\" class=\"dataframe\">\n",
       "  <thead>\n",
       "    <tr style=\"text-align: right;\">\n",
       "      <th></th>\n",
       "      <th>Date</th>\n",
       "      <th>Region</th>\n",
       "      <th>Product</th>\n",
       "      <th>Units Sold</th>\n",
       "      <th>Unit Price</th>\n",
       "    </tr>\n",
       "  </thead>\n",
       "  <tbody>\n",
       "    <tr>\n",
       "      <th>0</th>\n",
       "      <td>2024-04-22</td>\n",
       "      <td>NaN</td>\n",
       "      <td>Phone</td>\n",
       "      <td>5.0</td>\n",
       "      <td>1000.0</td>\n",
       "    </tr>\n",
       "    <tr>\n",
       "      <th>1</th>\n",
       "      <td>NaN</td>\n",
       "      <td>West</td>\n",
       "      <td>NaN</td>\n",
       "      <td>9999.0</td>\n",
       "      <td>120.5</td>\n",
       "    </tr>\n",
       "    <tr>\n",
       "      <th>2</th>\n",
       "      <td>NaN</td>\n",
       "      <td>South</td>\n",
       "      <td>NaN</td>\n",
       "      <td>1.0</td>\n",
       "      <td>250.0</td>\n",
       "    </tr>\n",
       "    <tr>\n",
       "      <th>3</th>\n",
       "      <td>2024-03-18</td>\n",
       "      <td>West</td>\n",
       "      <td>NaN</td>\n",
       "      <td>1.0</td>\n",
       "      <td>5.0</td>\n",
       "    </tr>\n",
       "    <tr>\n",
       "      <th>4</th>\n",
       "      <td>2024-02-07</td>\n",
       "      <td>NaN</td>\n",
       "      <td>NaN</td>\n",
       "      <td>15.0</td>\n",
       "      <td>5.0</td>\n",
       "    </tr>\n",
       "  </tbody>\n",
       "</table>\n",
       "</div>"
      ],
      "text/plain": [
       "         Date Region Product  Units Sold  Unit Price \n",
       "0  2024-04-22    NaN   Phone         5.0       1000.0\n",
       "1         NaN   West     NaN      9999.0        120.5\n",
       "2         NaN  South     NaN         1.0        250.0\n",
       "3  2024-03-18   West     NaN         1.0          5.0\n",
       "4  2024-02-07    NaN     NaN        15.0          5.0"
      ]
     },
     "execution_count": 1,
     "metadata": {},
     "output_type": "execute_result"
    }
   ],
   "source": [
    "import pandas as pd\n",
    "import numpy as np\n",
    "import matplotlib.pyplot as plt\n",
    "import seaborn as sns\n",
    "from datetime import datetime\n",
    "\n",
    "\n",
    "# Load raw data\n",
    "df = pd.read_csv('../data/raw_sales_data.csv')\n",
    "df.head()"
   ]
  },
  {
   "cell_type": "markdown",
   "metadata": {},
   "source": [
    "## Step 1: Clean the data"
   ]
  },
  {
   "cell_type": "code",
   "execution_count": 2,
   "metadata": {},
   "outputs": [
    {
     "data": {
      "text/html": [
       "<div>\n",
       "<style scoped>\n",
       "    .dataframe tbody tr th:only-of-type {\n",
       "        vertical-align: middle;\n",
       "    }\n",
       "\n",
       "    .dataframe tbody tr th {\n",
       "        vertical-align: top;\n",
       "    }\n",
       "\n",
       "    .dataframe thead th {\n",
       "        text-align: right;\n",
       "    }\n",
       "</style>\n",
       "<table border=\"1\" class=\"dataframe\">\n",
       "  <thead>\n",
       "    <tr style=\"text-align: right;\">\n",
       "      <th></th>\n",
       "      <th>Date</th>\n",
       "      <th>Region</th>\n",
       "      <th>Product</th>\n",
       "      <th>Units Sold</th>\n",
       "      <th>Unit Price</th>\n",
       "      <th>Revenue</th>\n",
       "    </tr>\n",
       "  </thead>\n",
       "  <tbody>\n",
       "    <tr>\n",
       "      <th>0</th>\n",
       "      <td>2024-04-22</td>\n",
       "      <td>Unknown</td>\n",
       "      <td>Phone</td>\n",
       "      <td>5</td>\n",
       "      <td>1000.00</td>\n",
       "      <td>5000.00</td>\n",
       "    </tr>\n",
       "    <tr>\n",
       "      <th>3</th>\n",
       "      <td>2024-03-18</td>\n",
       "      <td>West</td>\n",
       "      <td>Unknown</td>\n",
       "      <td>1</td>\n",
       "      <td>5.00</td>\n",
       "      <td>5.00</td>\n",
       "    </tr>\n",
       "    <tr>\n",
       "      <th>4</th>\n",
       "      <td>2024-02-07</td>\n",
       "      <td>Unknown</td>\n",
       "      <td>Unknown</td>\n",
       "      <td>15</td>\n",
       "      <td>5.00</td>\n",
       "      <td>75.00</td>\n",
       "    </tr>\n",
       "    <tr>\n",
       "      <th>5</th>\n",
       "      <td>2024-04-24</td>\n",
       "      <td>North</td>\n",
       "      <td>Unknown</td>\n",
       "      <td>0</td>\n",
       "      <td>120.50</td>\n",
       "      <td>0.00</td>\n",
       "    </tr>\n",
       "    <tr>\n",
       "      <th>6</th>\n",
       "      <td>2024-02-14</td>\n",
       "      <td>South</td>\n",
       "      <td>Unknown</td>\n",
       "      <td>15</td>\n",
       "      <td>499.99</td>\n",
       "      <td>7499.85</td>\n",
       "    </tr>\n",
       "  </tbody>\n",
       "</table>\n",
       "</div>"
      ],
      "text/plain": [
       "        Date   Region  Product  Units Sold  Unit Price  Revenue\n",
       "0 2024-04-22  Unknown    Phone           5     1000.00  5000.00\n",
       "3 2024-03-18     West  Unknown           1        5.00     5.00\n",
       "4 2024-02-07  Unknown  Unknown          15        5.00    75.00\n",
       "5 2024-04-24    North  Unknown           0      120.50     0.00\n",
       "6 2024-02-14    South  Unknown          15      499.99  7499.85"
      ]
     },
     "execution_count": 2,
     "metadata": {},
     "output_type": "execute_result"
    }
   ],
   "source": [
    "# Drop rows with missing date\n",
    "df = df.dropna(subset=['Date'])\n",
    "\n",
    "# Clean column names\n",
    "df.columns = df.columns.str.strip()\n",
    "\n",
    "# Remove duplicates\n",
    "df = df.drop_duplicates()\n",
    "\n",
    "# Replace empty or NaN regions/products\n",
    "df['Region'] = df['Region'].fillna('Unknown')\n",
    "df['Product'] = df['Product'].replace('', 'Unknown').fillna('Unknown')\n",
    "\n",
    "# Drop rows with missing numerical values\n",
    "df = df.dropna(subset=['Units Sold', 'Unit Price'])\n",
    "\n",
    "# Convert data types\n",
    "df['Date'] = pd.to_datetime(df['Date'])\n",
    "df['Units Sold'] = df['Units Sold'].astype(int)\n",
    "df['Unit Price'] = df['Unit Price'].astype(float)\n",
    "\n",
    "# Remove obvious outliers\n",
    "df = df[df['Units Sold'] < 5000]\n",
    "\n",
    "# Add calculated revenue\n",
    "df['Revenue'] = df['Units Sold'] * df['Unit Price']\n",
    "df.head()"
   ]
  },
  {
   "cell_type": "markdown",
   "metadata": {},
   "source": [
    "## Step 2: Product categorization"
   ]
  },
  {
   "cell_type": "code",
   "execution_count": 3,
   "metadata": {},
   "outputs": [
    {
     "data": {
      "text/html": [
       "<div>\n",
       "<style scoped>\n",
       "    .dataframe tbody tr th:only-of-type {\n",
       "        vertical-align: middle;\n",
       "    }\n",
       "\n",
       "    .dataframe tbody tr th {\n",
       "        vertical-align: top;\n",
       "    }\n",
       "\n",
       "    .dataframe thead th {\n",
       "        text-align: right;\n",
       "    }\n",
       "</style>\n",
       "<table border=\"1\" class=\"dataframe\">\n",
       "  <thead>\n",
       "    <tr style=\"text-align: right;\">\n",
       "      <th></th>\n",
       "      <th>Date</th>\n",
       "      <th>Region</th>\n",
       "      <th>Product</th>\n",
       "      <th>Units Sold</th>\n",
       "      <th>Unit Price</th>\n",
       "      <th>Revenue</th>\n",
       "      <th>Category</th>\n",
       "      <th>Month</th>\n",
       "    </tr>\n",
       "  </thead>\n",
       "  <tbody>\n",
       "    <tr>\n",
       "      <th>0</th>\n",
       "      <td>2024-04-22</td>\n",
       "      <td>Unknown</td>\n",
       "      <td>Phone</td>\n",
       "      <td>5</td>\n",
       "      <td>1000.00</td>\n",
       "      <td>5000.00</td>\n",
       "      <td>Mobile</td>\n",
       "      <td>2024-04</td>\n",
       "    </tr>\n",
       "    <tr>\n",
       "      <th>3</th>\n",
       "      <td>2024-03-18</td>\n",
       "      <td>West</td>\n",
       "      <td>Unknown</td>\n",
       "      <td>1</td>\n",
       "      <td>5.00</td>\n",
       "      <td>5.00</td>\n",
       "      <td>Other</td>\n",
       "      <td>2024-03</td>\n",
       "    </tr>\n",
       "    <tr>\n",
       "      <th>4</th>\n",
       "      <td>2024-02-07</td>\n",
       "      <td>Unknown</td>\n",
       "      <td>Unknown</td>\n",
       "      <td>15</td>\n",
       "      <td>5.00</td>\n",
       "      <td>75.00</td>\n",
       "      <td>Other</td>\n",
       "      <td>2024-02</td>\n",
       "    </tr>\n",
       "    <tr>\n",
       "      <th>5</th>\n",
       "      <td>2024-04-24</td>\n",
       "      <td>North</td>\n",
       "      <td>Unknown</td>\n",
       "      <td>0</td>\n",
       "      <td>120.50</td>\n",
       "      <td>0.00</td>\n",
       "      <td>Other</td>\n",
       "      <td>2024-04</td>\n",
       "    </tr>\n",
       "    <tr>\n",
       "      <th>6</th>\n",
       "      <td>2024-02-14</td>\n",
       "      <td>South</td>\n",
       "      <td>Unknown</td>\n",
       "      <td>15</td>\n",
       "      <td>499.99</td>\n",
       "      <td>7499.85</td>\n",
       "      <td>Other</td>\n",
       "      <td>2024-02</td>\n",
       "    </tr>\n",
       "  </tbody>\n",
       "</table>\n",
       "</div>"
      ],
      "text/plain": [
       "        Date   Region  Product  Units Sold  Unit Price  Revenue Category  \\\n",
       "0 2024-04-22  Unknown    Phone           5     1000.00  5000.00   Mobile   \n",
       "3 2024-03-18     West  Unknown           1        5.00     5.00    Other   \n",
       "4 2024-02-07  Unknown  Unknown          15        5.00    75.00    Other   \n",
       "5 2024-04-24    North  Unknown           0      120.50     0.00    Other   \n",
       "6 2024-02-14    South  Unknown          15      499.99  7499.85    Other   \n",
       "\n",
       "     Month  \n",
       "0  2024-04  \n",
       "3  2024-03  \n",
       "4  2024-02  \n",
       "5  2024-04  \n",
       "6  2024-02  "
      ]
     },
     "execution_count": 3,
     "metadata": {},
     "output_type": "execute_result"
    }
   ],
   "source": [
    "# Create a product category mapping\n",
    "category_map = {\n",
    "    'Laptop': 'Tech',\n",
    "    'Tablet': 'Tech',\n",
    "    'Phone': 'Mobile',\n",
    "    'Monitor': 'Accessories',\n",
    "    'Unknown': 'Other'\n",
    "}\n",
    "df['Category'] = df['Product'].map(category_map).fillna('Other')\n",
    "df['Month'] = df['Date'].dt.to_period('M')\n",
    "df.head()"
   ]
  },
  {
   "cell_type": "markdown",
   "metadata": {},
   "source": [
    "##  Step 3:Export to Excel and CSV"
   ]
  },
  {
   "cell_type": "code",
   "execution_count": 4,
   "metadata": {},
   "outputs": [],
   "source": [
    "df.to_excel(\"../data/cleaned_sales_data.xlsx\", index=False)\n",
    "df.to_csv(\"../data/cleaned_sales_data.csv\", index=False)"
   ]
  },
  {
   "cell_type": "markdown",
   "metadata": {},
   "source": [
    "## Step 4: EDA – Trends and KPIs"
   ]
  },
  {
   "cell_type": "code",
   "execution_count": 5,
   "metadata": {},
   "outputs": [
    {
     "data": {
      "image/png": "[encoded data removed]",
      "text/plain": [
       "<Figure size 600x400 with 1 Axes>"
      ]
     },
     "metadata": {},
     "output_type": "display_data"
    },
    {
     "data": {
      "image/png": "[encoded data removed]",
      "text/plain": [
       "<Figure size 800x400 with 1 Axes>"
      ]
     },
     "metadata": {},
     "output_type": "display_data"
    },
    {
     "data": {
      "image/png": "[encoded data removed]",
      "text/plain": [
       "<Figure size 600x400 with 1 Axes>"
      ]
     },
     "metadata": {},
     "output_type": "display_data"
    }
   ],
   "source": [
    "# Revenue by Region\n",
    "plt.figure(figsize=(6,4))\n",
    "sns.barplot(data=df, x='Region', y='Revenue', estimator=sum)\n",
    "plt.title('Total Revenue by Region')\n",
    "plt.tight_layout()\n",
    "plt.savefig(\"../visuals/Total_Revenue_by_Region.png\")\n",
    "plt.show()\n",
    "plt.close()\n",
    "\n",
    "\n",
    "# Revenue by Month\n",
    "plt.figure(figsize=(6,4))\n",
    "monthly_revenue = df.groupby('Month')['Revenue'].sum()\n",
    "monthly_revenue.plot(marker='o', figsize=(8,4))\n",
    "plt.title('Monthly Revenue')\n",
    "plt.ylabel('Revenue')\n",
    "plt.grid(True)\n",
    "plt.tight_layout()\n",
    "plt.savefig(\"../visuals/Revenue_by_Month.png\")\n",
    "plt.show()\n",
    "plt.close()\n",
    "\n",
    "# Revenue by Category\n",
    "plt.figure(figsize=(6,4))\n",
    "sns.barplot(data=df, x='Category', y='Revenue', estimator=sum)\n",
    "plt.title('Revenue by Product Category')\n",
    "plt.tight_layout()\n",
    "plt.savefig(\"../visuals/Revenue_by_Product_Category.png\")\n",
    "plt.show()\n",
    "plt.close()"
   ]
  },
  {
   "cell_type": "markdown",
   "metadata": {},
   "source": [
    "## Step 5: Business KPIs"
   ]
  },
  {
   "cell_type": "code",
   "execution_count": 6,
   "metadata": {},
   "outputs": [
    {
     "name": "stdout",
     "output_type": "stream",
     "text": [
      "Total Revenue: 144,996.95\n",
      "Total Units Sold: 347.00\n",
      "Average Order Value: 1,907.85\n",
      "Revenue per Unit: 417.86\n",
      "Unique Products: 5.00\n",
      "Unique Regions: 5.00\n"
     ]
    }
   ],
   "source": [
    "kpi = {\n",
    "    'Total Revenue': df['Revenue'].sum(),\n",
    "    'Total Units Sold': df['Units Sold'].sum(),\n",
    "    'Average Order Value': df['Revenue'].sum() / len(df),\n",
    "    'Revenue per Unit': df['Revenue'].sum() / df['Units Sold'].sum(),\n",
    "    'Unique Products': df['Product'].nunique(),\n",
    "    'Unique Regions': df['Region'].nunique()\n",
    "}\n",
    "for key, value in kpi.items():\n",
    "    print(f\"{key}: {value:,.2f}\")"
   ]
  },
  {
   "cell_type": "markdown",
   "metadata": {},
   "source": [
    "## Step 6: PDF Report"
   ]
  },
  {
   "cell_type": "code",
   "execution_count": 7,
   "metadata": {},
   "outputs": [
    {
     "name": "stdout",
     "output_type": "stream",
     "text": [
      "PDF report saved to: ../reports/sales_kpi_report.pdf\n"
     ]
    }
   ],
   "source": [
    "from reportlab.lib.pagesizes import A4\n",
    "from reportlab.pdfgen import canvas\n",
    "# Create the PDF\n",
    "pdf_path = \"../reports/sales_kpi_report.pdf\"\n",
    "c = canvas.Canvas(pdf_path, pagesize=A4)\n",
    "width, height = A4\n",
    "\n",
    "# Title\n",
    "c.setFont(\"Helvetica-Bold\", 16)\n",
    "c.drawCentredString(width / 2, height - 50, \"Sales KPI Report\")\n",
    "\n",
    "# Insert KPIs\n",
    "c.setFont(\"Helvetica\", 12)\n",
    "y = height - 90\n",
    "for key, val in kpi.items():\n",
    "    c.drawString(50, y, f\"{key}: {val:,.2f}\")\n",
    "    y -= 20\n",
    "\n",
    "# Add chart: Total Revenue by Region\n",
    "c.drawImage(\"../visuals/Total_Revenue_by_Region.png\", 80, 360, width=400, preserveAspectRatio=True, mask='auto')\n",
    "c.setFont(\"Helvetica-Bold\", 12)\n",
    "c.drawCentredString(width / 2, 350, \"Total Revenue by Region\")\n",
    "\n",
    "# New page for additional charts\n",
    "c.showPage()\n",
    "\n",
    "# Add chart: Monthly Revenue\n",
    "c.setFont(\"Helvetica-Bold\", 12)\n",
    "c.drawCentredString(width / 2, height - 50, \"Monthly Revenue\")\n",
    "c.drawImage(\"../visuals/Revenue_by_Month.png\", 80, height - 350, width=400, preserveAspectRatio=True, mask='auto')\n",
    "\n",
    "# Add chart: Revenue by Product Category\n",
    "c.setFont(\"Helvetica-Bold\", 12)\n",
    "c.drawCentredString(width / 2, 250, \"Revenue by Product Category\")\n",
    "c.drawImage(\"../visuals/Revenue_by_Product_Category.png\", 80, 60, width=400, preserveAspectRatio=True, mask='auto')\n",
    "\n",
    "# Save the PDF\n",
    "c.save()\n",
    "\n",
    "print(f\"PDF report saved to: {pdf_path}\")"
   ]
  },
  {
   "cell_type": "code",
   "execution_count": null,
   "metadata": {},
   "outputs": [],
   "source": []
  }
 ],
 "metadata": {
  "kernelspec": {
   "display_name": "Python 3 (ipykernel)",
   "language": "python",
   "name": "python3"
  },
  "language_info": {
   "codemirror_mode": {
    "name": "ipython",
    "version": 3
   },
   "file_extension": ".py",
   "mimetype": "text/x-python",
   "name": "python",
   "nbconvert_exporter": "python",
   "pygments_lexer": "ipython3",
   "version": "3.11.7"
  }
 },
 "nbformat": 4,
 "nbformat_minor": 4
}
